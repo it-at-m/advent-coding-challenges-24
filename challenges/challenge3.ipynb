{
 "cells": [
  {
   "cell_type": "markdown",
   "metadata": {},
   "source": [
    "# [muenchen.digital](https://muenchen.digital) Adventskalender 2024 - Coding Challenge 2\n",
    "\n",
    "Über den folgenden Button gelangst du zu einer interaktiven Version dieses Notebooks, in der du die Challenge selbst lösen kannst: \n",
    "\n",
    "[![Binder starten](https://mybinder.org/badge_logo.svg)](https://mybinder.org/v2/gh/it-at-m/advent-coding-challenges-24/HEAD?urlpath=lab%2Ftree%2Fchallenges%2Fchallenge2.ipynb)"
   ]
  },
  {
   "cell_type": "markdown",
   "metadata": {
    "vscode": {
     "languageId": "plaintext"
    }
   },
   "source": [
    "## Datensatz\n",
    "\n",
    "Unser Coding-Adventskalender dreht sich dieses Jahr komplett um Weihnachtsmärkte.\n",
    "\n",
    "Genauer gesagt, um die Weihnachtsmärkte in München, denn für die gibt es seit diesem Jahr einen frei verfügbaren Datensatz.\n",
    "\n",
    "Diesen Datensatz wollen wir in den 4 Challenges nutzen, um nach und nach mehr Informationen zu den Weihnachtsmärkten herauszufinden.\n",
    "\n",
    "Du findest ihn unter folgendem Link: https://opendata.muenchen.de/dataset/weihnachtsmaerkte-muenchen/resource/312260ca-7346-4b85-a357-3764bcadc6dd\n",
    "\n",
    "Schau dir den Datensatz gerne erst einmal im Browser an, um ihn kennenzulernen."
   ]
  },
  {
   "cell_type": "markdown",
   "metadata": {
    "vscode": {
     "languageId": "plaintext"
    }
   },
   "source": [
    "# Download des Datensatzes\n",
    "\n",
    "**Der Datensatz wurde inzwischen noch einmal bezüglich der Koordinaten korrigiert, bitte geh sicher dass du die aktuellste Version (v5) verwendest.**\n",
    "\n",
    "Du kannst den Datensatz entweder [manuell herunterladen](https://opendata.muenchen.de/dataset/92515550-b236-4a08-9259-260513889548/resource/312260ca-7346-4b85-a357-3764bcadc6dd/download/weihnachtsmarkte-muenchen-2024-v5.csv) und wieder in das Notebook hochladen, oder du kannst den folgenden Code-Block ausführen, um den Datensatz direkt in das Notebook zu laden."
   ]
  },
  {
   "cell_type": "code",
   "execution_count": null,
   "metadata": {},
   "outputs": [],
   "source": [
    "import requests\n",
    "\n",
    "url = \"https://opendata.muenchen.de/dataset/92515550-b236-4a08-9259-260513889548/resource/312260ca-7346-4b85-a357-3764bcadc6dd/download/weihnachtsmarkte-muenchen-2024-v5.csv\"\n",
    "response = requests.get(url)\n",
    "\n",
    "with open(\"weihnachtsmarkte-muenchen-2024-v5.csv\", \"wb\") as file:\n",
    "    file.write(response.content)"
   ]
  },
  {
   "cell_type": "markdown",
   "metadata": {},
   "source": [
    "## Vorbereitung\n",
    "\n",
    "Zur Vorbereitung laden wir den Datensatz, dieses Mal aber in GeoPandas, um die Koordinaten direkt als Geometrie-Objekte zu haben."
   ]
  },
  {
   "cell_type": "code",
   "execution_count": null,
   "metadata": {},
   "outputs": [],
   "source": [
    "# Pandas importieren\n",
    "import pandas as pd\n",
    "import geopandas as gpd\n",
    "\n",
    "# Datensatz laden\n",
    "df = pd.read_csv(\"../challenges/weihnachtsmarkte-muenchen-2024-v5.csv\")\n",
    "\n",
    "# GeoDataFrame erstellen\n",
    "gdf = gpd.GeoDataFrame(df, geometry=gpd.points_from_xy(df.longitude, df.latitude), crs=\"EPSG:4326\")\n",
    "\n",
    "# GeoDataFrame plotten\n",
    "gdf.explore()"
   ]
  },
  {
   "cell_type": "markdown",
   "metadata": {},
   "source": [
    "# Aufgabenstellung\n",
    "\n",
    "Diese Woche ist es das Ziel, den Weihnachtsmarkt zu finden, der am nähesten am IT-Referat liegt.\n",
    "\n",
    "Dafür sind folgende Schritte nötig:\n",
    "\n",
    "- Bestimme die Koordinaten des IT-Referats mithilfe eines Reverse Lookup in `GeoPy` und `Nomatim`\n",
    "- Berechne die Distanz zwischen dem IT-Referat und jedem Weihnachtsmarkt\n",
    "- Finde den Weihnachtsmarkt, der am nächsten am IT-Referat liegt, indem du nach der minimalen Distanz sortierst"
   ]
  },
  {
   "cell_type": "markdown",
   "metadata": {},
   "source": [
    "## Hinweise\n",
    "\n",
    "- Die Adresse des IT-Referats ist \"Agnes-Pockels-Bogen 33, 80992 München\".\n",
    "- Die Auflösung des Namen zur Koodinate ist hier als Beispiel gegeben: https://geopy.readthedocs.io/en/stable/#module-geopy.geocoders\n",
    "- Die Distanz kann für das ganze GeoDataFrame mit der Methode `gdf.distance` berechnet werden.\n",
    "- Zur Berechnung muss die Location des IT-Referats noch in einen Point aus `shapely` umgewandelt werden: https://shapely.readthedocs.io/en/stable/manual.html#points\n",
    "- Eventuell musst du die Koordinaten in ein anderes Koordinatensystem umrechnen, um die Distanz in Metern zu erhalten: https://geopandas.org/en/stable/docs/user_guide/projections.html#re-projecting\n",
    "- Die berechnete Distanz zum IT-Rathaus kannst du einfach mit in deinem GeoDataFrame in einer neuen Spalte speichern, um dann nach dieser zu sortieren.\n",
    "- Die Distanz wird in Meter angegeben, du kannst also um Kilometer zu erhalten durch 1000 teilen."
   ]
  },
  {
   "cell_type": "markdown",
   "metadata": {},
   "source": [
    "## Musterlösung\n",
    "\n",
    "Nach Ende des Gewinnspiels findest du auch eine Musterlösung auf der Startseite des Repositorys verlinkt."
   ]
  },
  {
   "cell_type": "markdown",
   "metadata": {},
   "source": [
    "## Deine Lösung\n",
    "\n",
    "Ab hier kannst du mit deiner Lösung beginnen.\n",
    "Denk daran, die bereits geladene Tabelle `df` zu benutzen 😉"
   ]
  },
  {
   "cell_type": "code",
   "execution_count": null,
   "metadata": {},
   "outputs": [],
   "source": [
    "# Nomatim aus Geopy importieren\n",
    "from geopy.geocoders import Nominatim\n",
    "\n",
    "# Geocoder initialisieren\n",
    "geocoder = Nominatim(user_agent=\"munich-christmas-markets\")"
   ]
  },
  {
   "cell_type": "code",
   "execution_count": null,
   "metadata": {},
   "outputs": [],
   "source": []
  },
  {
   "cell_type": "code",
   "execution_count": null,
   "metadata": {},
   "outputs": [],
   "source": []
  },
  {
   "cell_type": "code",
   "execution_count": null,
   "metadata": {},
   "outputs": [],
   "source": []
  },
  {
   "cell_type": "code",
   "execution_count": null,
   "metadata": {},
   "outputs": [],
   "source": []
  },
  {
   "cell_type": "code",
   "execution_count": null,
   "metadata": {},
   "outputs": [],
   "source": []
  },
  {
   "cell_type": "code",
   "execution_count": null,
   "metadata": {},
   "outputs": [],
   "source": []
  },
  {
   "cell_type": "code",
   "execution_count": null,
   "metadata": {},
   "outputs": [],
   "source": []
  }
 ],
 "metadata": {
  "kernelspec": {
   "display_name": ".venv",
   "language": "python",
   "name": "python3"
  },
  "language_info": {
   "codemirror_mode": {
    "name": "ipython",
    "version": 3
   },
   "file_extension": ".py",
   "mimetype": "text/x-python",
   "name": "python",
   "nbconvert_exporter": "python",
   "pygments_lexer": "ipython3",
   "version": "3.11.10"
  }
 },
 "nbformat": 4,
 "nbformat_minor": 2
}
