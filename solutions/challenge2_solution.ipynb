{
 "cells": [
  {
   "cell_type": "markdown",
   "metadata": {},
   "source": [
    "# [muenchen.digital](https://muenchen.digital) Adventskalender 2024 - Coding Challenge 2\n",
    "\n",
    "Über den folgenden Button gelangst du zu einer interaktiven Version dieses Notebooks, in der du die Challenge selbst lösen kannst: \n",
    "\n",
    "[![Binder starten](https://mybinder.org/badge_logo.svg)](https://mybinder.org/v2/gh/it-at-m/advent-coding-challenges-24/HEAD?urlpath=lab%2Ftree%2Fchallenges%2Fchallenge2.ipynb)"
   ]
  },
  {
   "cell_type": "markdown",
   "metadata": {
    "vscode": {
     "languageId": "plaintext"
    }
   },
   "source": [
    "## Datensatz\n",
    "\n",
    "Unser Coding-Adventskalender dreht sich dieses Jahr komplett um Weihnachtsmärkte.\n",
    "\n",
    "Genauer gesagt, um die Weihnachtsmärkte in München, denn für die gibt es seit diesem Jahr einen frei verfügbaren Datensatz.\n",
    "\n",
    "Diesen Datensatz wollen wir in den 4 Challenges nutzen, um nach und nach mehr Informationen zu den Weihnachtsmärkten herauszufinden.\n",
    "\n",
    "Du findest ihn unter folgendem Link: https://opendata.muenchen.de/dataset/weihnachtsmaerkte-muenchen/resource/312260ca-7346-4b85-a357-3764bcadc6dd\n",
    "\n",
    "Schau dir den Datensatz gerne erst einmal im Browser an, um ihn kennenzulernen."
   ]
  },
  {
   "cell_type": "markdown",
   "metadata": {
    "vscode": {
     "languageId": "plaintext"
    }
   },
   "source": [
    "# Download des Datensatzes\n",
    "\n",
    "**Der Datensatz wurde inzwischen um neue Märkte erweitert, bitte geh sicher dass du die aktuellste Version (v4) verwendest.**\n",
    "\n",
    "Du kannst den Datensatz entweder [manuell herunterladen](https://opendata.muenchen.de/dataset/92515550-b236-4a08-9259-260513889548/resource/312260ca-7346-4b85-a357-3764bcadc6dd/download/weihnachtsmarkte-muenchen-2024-v2.csv) und wieder in das Notebook hochladen, oder du kannst den folgenden Code-Block ausführen, um den Datensatz direkt in das Notebook zu laden."
   ]
  },
  {
   "cell_type": "code",
   "execution_count": null,
   "metadata": {},
   "outputs": [],
   "source": [
    "import requests\n",
    "\n",
    "url = \"https://opendata.muenchen.de/dataset/92515550-b236-4a08-9259-260513889548/resource/312260ca-7346-4b85-a357-3764bcadc6dd/download/weihnachtsmarkte-muenchen-2024-v4.csv\"\n",
    "response = requests.get(url)\n",
    "\n",
    "with open(\"weihnachtsmarkte-muenchen-2024-v4.csv\", \"wb\") as file:\n",
    "    file.write(response.content)"
   ]
  },
  {
   "cell_type": "markdown",
   "metadata": {},
   "source": [
    "## Vorbereitung\n",
    "\n",
    "Zur Vorbereitung laden wir wieder einmal den Datensatz und korrigieren die Koordinaten, damit wir sie später auf einer Karte darstellen können."
   ]
  },
  {
   "cell_type": "code",
   "execution_count": null,
   "metadata": {},
   "outputs": [],
   "source": [
    "# Pandas importieren\n",
    "import pandas as pd\n",
    "\n",
    "# Datensatz laden\n",
    "df = pd.read_csv(\"weihnachtsmarkte-muenchen-2024-v4.csv\")\n",
    "\n",
    "# ! Wichtig: Die Koordinaten müssen in Dezimalgrad umgewandelt werden\n",
    "df[\"latitude\"] = (\n",
    "    df[\"latitude\"].str.replace(\".\", \"\", regex=False).astype(float) / 1000000\n",
    ")\n",
    "df[\"longitude\"] = (\n",
    "    df[\"longitude\"].str.replace(\".\", \"\", regex=False).astype(float) / 1000000\n",
    ")\n",
    "\n",
    "# Datensatz anzeigen\n",
    "df"
   ]
  },
  {
   "cell_type": "markdown",
   "metadata": {},
   "source": [
    "# Aufgabenstellung\n",
    "\n",
    "Diese Woche wollen wir eine Kartendarstellung der Weihnachtsmärkte in München erstellen.\n",
    "\n",
    "Dazu verwenden wir die Bibliothek `folium`, die es uns ermöglicht, interaktive Karten zu erstellen.\n",
    "\n",
    "Folium bietet eine Vielzahl von Funktionen, um Karten zu erstellen und zu gestalten.\n",
    "\n",
    "Es geht dieses Mal darum, eine möglichst schöne und informative Karte zu erstellen, die alle Weihnachtsmärkte in München anzeigt."
   ]
  },
  {
   "cell_type": "markdown",
   "metadata": {},
   "source": [
    "## Aufgabe lösen\n",
    "\n"
   ]
  },
  {
   "cell_type": "markdown",
   "metadata": {},
   "source": [
    "## Hinweise\n",
    "\n",
    "- Du kannst deine Karte iterativ aufbauen und immer wieder ausgeben, indem du immer wieder das Objekt m referenzierst (s. Beispiel unten)\n",
    "- Du kannst zwischen verschiedenen Kartenstilen wählen: https://python-visualization.github.io/folium/latest/getting_started.html#Choosing-a-tileset\n",
    "- Das wichtigste ist es, die Weihnachtsmärkte als Marker auf der Karte anzuzeigen: https://python-visualization.github.io/folium/latest/getting_started.html#Adding-markers\n",
    "- Um die Karte einzufärben, kannst du auch ein Bild darüber legen: https://python-visualization.github.io/folium/latest/getting_started.html#Choosing-a-tileset\n",
    "- Du kannst deine Karte am Ende auch im Browser öffnen oder als HTML-Datei speichern: https://python-visualization.github.io/folium/latest/getting_started.html#Creating-a-map; https://python-visualization.github.io/folium/latest/reference.html#folium.folium.Map.show_in_browser"
   ]
  },
  {
   "cell_type": "markdown",
   "metadata": {},
   "source": [
    "## Musterlösung\n",
    "\n",
    "Nach Ende des Gewinnspiels findest du auch eine Musterlösung auf der Startseite des Repositorys verlinkt."
   ]
  },
  {
   "cell_type": "markdown",
   "metadata": {},
   "source": [
    "## Deine Lösung\n",
    "\n",
    "Ab hier kannst du mit deiner Lösung beginnen.\n",
    "Denk daran, die bereits geladene Tabelle `df` zu benutzen 😉"
   ]
  },
  {
   "cell_type": "code",
   "execution_count": null,
   "metadata": {},
   "outputs": [],
   "source": [
    "# Folium importieren\n",
    "from folium import Map, Marker, Icon\n",
    "from folium.raster_layers import ImageOverlay"
   ]
  },
  {
   "cell_type": "code",
   "execution_count": null,
   "metadata": {},
   "outputs": [],
   "source": [
    "# Erstelle eine Karte, die auf München zentriert ist\n",
    "m = Map(location=[48.137154, 11.576124], zoom_start=12, tiles=\"Esri.WorldTopoMap\")\n",
    "\n",
    "# Zeige die Karte an\n",
    "m"
   ]
  },
  {
   "cell_type": "code",
   "execution_count": null,
   "metadata": {},
   "outputs": [],
   "source": [
    "import numpy as np\n",
    "\n",
    "# Overlay-Bild, damit die Karte dunkler wird\n",
    "overlay = np.array([[[0, 0, 139, 255]] * 256] * 256, dtype=np.uint8)\n",
    "\n",
    "# Overlay hinzufügen\n",
    "ImageOverlay(\n",
    "    image=overlay,\n",
    "    bounds=[[47.2701114, 9.5956204], [55.058347, 13.239945]],\n",
    "    opacity=0.4,\n",
    ").add_to(m)\n",
    "\n",
    "# Karte mit Overlay anzeigen\n",
    "m"
   ]
  },
  {
   "cell_type": "code",
   "execution_count": null,
   "metadata": {},
   "outputs": [],
   "source": [
    "# Füge Marker für jeden Weihnachtsmarkt hinzu\n",
    "for idx, row in df.iterrows():\n",
    "    marker = Marker(\n",
    "        # Standort des Markers\n",
    "        location=[row[\"latitude\"], row[\"longitude\"]],\n",
    "        # Popup mit dem Namen des Weihnachtsmarkts, der Adresse und der Website\n",
    "        popup=f\"<b>{row['Marktname']}</b><br>{row['Adresse']}<br><a href='{row['Website']}' target='_blank'>{row['Website']}</a>\",\n",
    "        # Tooltip mit dem Namen des Weihnachtsmarkts\n",
    "        tooltip=row[\"Marktname\"],\n",
    "        # Icon in Orange und Stern als Symbol\n",
    "        icon=Icon(color=\"orange\", icon=\"star\"),\n",
    "    ).add_to(m)\n",
    "\n",
    "# Zeige die Karte an\n",
    "m"
   ]
  },
  {
   "cell_type": "code",
   "execution_count": null,
   "metadata": {},
   "outputs": [],
   "source": [
    "# Karte im Browser anzeigen\n",
    "m.show_in_browser()\n",
    "\n",
    "# Exportiere die Karte als HTML-Datei, um sie für spätere Verwendung zu speichern\n",
    "m.save(\"weihnachtsmarkte-muenchen-2024-challenge2.html\")"
   ]
  }
 ],
 "metadata": {
  "kernelspec": {
   "display_name": ".venv",
   "language": "python",
   "name": "python3"
  },
  "language_info": {
   "codemirror_mode": {
    "name": "ipython",
    "version": 3
   },
   "file_extension": ".py",
   "mimetype": "text/x-python",
   "name": "python",
   "nbconvert_exporter": "python",
   "pygments_lexer": "ipython3",
   "version": "3.11.10"
  }
 },
 "nbformat": 4,
 "nbformat_minor": 2
}
